{
 "cells": [
  {
   "cell_type": "code",
   "execution_count": 17,
   "id": "9a162cf7",
   "metadata": {},
   "outputs": [
    {
     "name": "stdout",
     "output_type": "stream",
     "text": [
      "Hello Python\n"
     ]
    }
   ],
   "source": [
    "#Q.1- Write a Python program to print \"Hello Python\"?\n",
    "\n",
    "#Solution-\n",
    "\n",
    "class greet:\n",
    "    print (\"Hello Python\")\n",
    "    \n",
    "greet=greet()"
   ]
  },
  {
   "cell_type": "code",
   "execution_count": 25,
   "id": "c58dd1d2",
   "metadata": {},
   "outputs": [
    {
     "name": "stdout",
     "output_type": "stream",
     "text": [
      "Enter the first number\t4\n",
      "Enter the second number\t2\n",
      "Whether you want Addition or Division? \n",
      " Type 'A' for addition and 'D' for division \td\n",
      "2.0\n"
     ]
    }
   ],
   "source": [
    "#Q.2- Write a Python program to do arithmetical operations addition and division.?\n",
    "\n",
    "#Solution-\n",
    "\n",
    "def addition(a,b):\n",
    "    s=a+b\n",
    "    return (s)\n",
    "\n",
    "def division(a,b):\n",
    "    return (a/b)\n",
    "\n",
    "x=int(input(\"Enter the first number\\t\"))\n",
    "y=int(input(\"Enter the second number\\t\"))\n",
    "choice=input(\"Whether you want Addition or Division? \\n Type 'A' for addition and 'D' for division \\t\" )\n",
    "if (choice=='a'):\n",
    "    g=addition(x,y)\n",
    "    print (g)\n",
    "             \n",
    "elif (choice=='d'):\n",
    "    g=division(x,y)\n",
    "    print (g)\n",
    "else:\n",
    "    print (\"Wrong choice, Try Again\")\n",
    "             \n"
   ]
  },
  {
   "cell_type": "code",
   "execution_count": 26,
   "id": "78a0cf96",
   "metadata": {},
   "outputs": [
    {
     "name": "stdout",
     "output_type": "stream",
     "text": [
      "Enter the base length of triangle\t4\n",
      "Enter the altitude length of triangle \t5\n",
      "10.0\n"
     ]
    }
   ],
   "source": [
    "#Q.3- Write a Python program to find the area of a triangle?\n",
    "\n",
    "#Solution-\n",
    "\n",
    "def area_of_triangle(base,altitude):\n",
    "    return ((base*altitude)/2)\n",
    "\n",
    "base=int(input(\"Enter the base length of triangle\\t\"))\n",
    "altitude=int(input(\"Enter the altitude length of triangle \\t\"))\n",
    "area=area_of_triangle(base,altitude)\n",
    "print (area)"
   ]
  },
  {
   "cell_type": "code",
   "execution_count": 1,
   "id": "277792ed",
   "metadata": {},
   "outputs": [
    {
     "name": "stdout",
     "output_type": "stream",
     "text": [
      "Enter the value of variable 1:-\t45\n",
      "Enter the value of variable 2:-\t79\n",
      "The values before swappng are:-\n",
      " x=45 \n",
      " y=79\n",
      "The values after swappng are:-\n",
      " x=79 \n",
      " y=45\n"
     ]
    }
   ],
   "source": [
    "#Q.4- Write a Python program to swap two variables?\n",
    "\n",
    "#Solution-\n",
    "\n",
    "def swap(a,b):\n",
    "    c=a+b\n",
    "    b=a\n",
    "    a=c-b\n",
    "    print (\"The values after swappng are:-\\n x={} \\n y={}\".format(a,b))\n",
    "    \n",
    "x=int(input(\"Enter the value of variable 1:-\\t\"))\n",
    "y=int(input(\"Enter the value of variable 2:-\\t\"))\n",
    "print (\"The values before swappng are:-\\n x={} \\n y={}\".format(x,y))\n",
    "swap(x,y)"
   ]
  },
  {
   "cell_type": "code",
   "execution_count": 2,
   "id": "efceb65e",
   "metadata": {},
   "outputs": [
    {
     "name": "stdout",
     "output_type": "stream",
     "text": [
      "10126\n"
     ]
    }
   ],
   "source": [
    "#Q.5- Write a Python program to generate a random number?\n",
    "\n",
    "#Solution-\n",
    "\n",
    "import random\n",
    "print(random.randint(0,99999))"
   ]
  },
  {
   "cell_type": "code",
   "execution_count": null,
   "id": "5f68d71d",
   "metadata": {},
   "outputs": [],
   "source": []
  }
 ],
 "metadata": {
  "kernelspec": {
   "display_name": "Python 3",
   "language": "python",
   "name": "python3"
  },
  "language_info": {
   "codemirror_mode": {
    "name": "ipython",
    "version": 3
   },
   "file_extension": ".py",
   "mimetype": "text/x-python",
   "name": "python",
   "nbconvert_exporter": "python",
   "pygments_lexer": "ipython3",
   "version": "3.8.8"
  }
 },
 "nbformat": 4,
 "nbformat_minor": 5
}
