{
 "cells": [
  {
   "cell_type": "code",
   "execution_count": 2,
   "id": "ba48f49e",
   "metadata": {},
   "outputs": [
    {
     "name": "stdout",
     "output_type": "stream",
     "text": [
      "Enter number of kilometers to be converted into miles\t23.5\n",
      "There are 14.6022185 miles in 23.5 kilometres\n"
     ]
    }
   ],
   "source": [
    "#Q.1- Write a Python program to convert kilometers to miles?\n",
    "\n",
    "#Solution-\n",
    "\n",
    "def conversion(a):\n",
    "    miles = 0.621371*a\n",
    "    print (\"There are {} miles in {} kilometres\".format(miles,a))\n",
    "    \n",
    "kms= float(input(\"Enter number of kilometers to be converted into miles\\t\"))\n",
    "conversion(kms)"
   ]
  },
  {
   "cell_type": "code",
   "execution_count": 3,
   "id": "0c279254",
   "metadata": {},
   "outputs": [
    {
     "name": "stdout",
     "output_type": "stream",
     "text": [
      "Enter the temperature to be converted into fahrenheit\t37\n",
      "There are 98.60000000000001 fahrenheit in 37 celsius\n"
     ]
    }
   ],
   "source": [
    "#Q.2- Write a Python program to convert Celsius to Fahrenheit?\n",
    "\n",
    "#Solution-\n",
    "\n",
    "def convert(celsius):\n",
    "    fahrenheit= (celsius * 1.8) + 32\n",
    "    print (\"There are {} fahrenheit in {} celsius\".format(fahrenheit,celsius))\n",
    "    \n",
    "temp= int(input(\"Enter the temperature to be converted into fahrenheit\\t\"))\n",
    "convert(temp)"
   ]
  },
  {
   "cell_type": "code",
   "execution_count": 6,
   "id": "4c71938f",
   "metadata": {},
   "outputs": [
    {
     "name": "stdout",
     "output_type": "stream",
     "text": [
      "Enter the Year to display on the calendar\t2022\n"
     ]
    },
    {
     "data": {
      "text/plain": [
       "'                                  2022\\n\\n      January                   February                   March\\nMo Tu We Th Fr Sa Su      Mo Tu We Th Fr Sa Su      Mo Tu We Th Fr Sa Su\\n                1  2          1  2  3  4  5  6          1  2  3  4  5  6\\n 3  4  5  6  7  8  9       7  8  9 10 11 12 13       7  8  9 10 11 12 13\\n10 11 12 13 14 15 16      14 15 16 17 18 19 20      14 15 16 17 18 19 20\\n17 18 19 20 21 22 23      21 22 23 24 25 26 27      21 22 23 24 25 26 27\\n24 25 26 27 28 29 30      28                        28 29 30 31\\n31\\n\\n       April                      May                       June\\nMo Tu We Th Fr Sa Su      Mo Tu We Th Fr Sa Su      Mo Tu We Th Fr Sa Su\\n             1  2  3                         1             1  2  3  4  5\\n 4  5  6  7  8  9 10       2  3  4  5  6  7  8       6  7  8  9 10 11 12\\n11 12 13 14 15 16 17       9 10 11 12 13 14 15      13 14 15 16 17 18 19\\n18 19 20 21 22 23 24      16 17 18 19 20 21 22      20 21 22 23 24 25 26\\n25 26 27 28 29 30         23 24 25 26 27 28 29      27 28 29 30\\n                          30 31\\n\\n        July                     August                  September\\nMo Tu We Th Fr Sa Su      Mo Tu We Th Fr Sa Su      Mo Tu We Th Fr Sa Su\\n             1  2  3       1  2  3  4  5  6  7                1  2  3  4\\n 4  5  6  7  8  9 10       8  9 10 11 12 13 14       5  6  7  8  9 10 11\\n11 12 13 14 15 16 17      15 16 17 18 19 20 21      12 13 14 15 16 17 18\\n18 19 20 21 22 23 24      22 23 24 25 26 27 28      19 20 21 22 23 24 25\\n25 26 27 28 29 30 31      29 30 31                  26 27 28 29 30\\n\\n      October                   November                  December\\nMo Tu We Th Fr Sa Su      Mo Tu We Th Fr Sa Su      Mo Tu We Th Fr Sa Su\\n                1  2          1  2  3  4  5  6                1  2  3  4\\n 3  4  5  6  7  8  9       7  8  9 10 11 12 13       5  6  7  8  9 10 11\\n10 11 12 13 14 15 16      14 15 16 17 18 19 20      12 13 14 15 16 17 18\\n17 18 19 20 21 22 23      21 22 23 24 25 26 27      19 20 21 22 23 24 25\\n24 25 26 27 28 29 30      28 29 30                  26 27 28 29 30 31\\n31\\n'"
      ]
     },
     "execution_count": 6,
     "metadata": {},
     "output_type": "execute_result"
    }
   ],
   "source": [
    "#Q.3- Write a Python program to display calendar?\n",
    "\n",
    "#Solution-\n",
    "\n",
    "import calendar\n",
    "\n",
    "year=int(input(\"Enter the Year to display on the calendar\\t\"))\n",
    "calendar.calendar(year)"
   ]
  },
  {
   "cell_type": "code",
   "execution_count": 7,
   "id": "b92edb7c",
   "metadata": {},
   "outputs": [
    {
     "name": "stdout",
     "output_type": "stream",
     "text": [
      "Enter the value of a in the equation\t2\n",
      "Enter the value of b in the equation\t2\n",
      "Enter the value of c in the equation\t1\n",
      "-4\n",
      "Roots are imaginary\t\n",
      "-0.5 + i 1.0\n",
      "-0.5 - i 1.0\n"
     ]
    }
   ],
   "source": [
    "#Q.4- Write a Python program to solve quadratic equation?\n",
    "\n",
    "#Solution-\n",
    "\n",
    "import math\n",
    "\n",
    "a=int(input(\"Enter the value of a in the equation\\t\"))\n",
    "b=int(input(\"Enter the value of b in the equation\\t\"))\n",
    "c=int(input(\"Enter the value of c in the equation\\t\"))\n",
    "\n",
    "discriminant=b*b-4*a*c\n",
    "print (discriminant)\n",
    "\n",
    "if discriminant > 0:\n",
    "    print (\"Roots are real and different\\t\")\n",
    "    x=(-b+math.sqrt(discriminant))/(2*a)\n",
    "    y=(-b-math.sqrt(discriminant))/(2*a)\n",
    "    print (x,\" \",y)\n",
    "    \n",
    "if (discriminant == 0):\n",
    "        print (\"Roots are real and equal\\t\")\n",
    "        x=(-b+math.sqrt(discriminant))/(2*a)\n",
    "        print (x,\" \",x)\n",
    "    \n",
    "if (discriminant < 0):\n",
    "    print (\"Roots are imaginary\\t\")\n",
    "    print(-b/(2*a),\"+ i\",math.sqrt(abs(((b*b)-4*a*c)/(2*a))))\n",
    "    print(-b/(2*a),\"- i\",math.sqrt(abs(((b*b)-4*a*c)/(2*a))))"
   ]
  },
  {
   "cell_type": "code",
   "execution_count": 1,
   "id": "b9dd1a5b",
   "metadata": {},
   "outputs": [
    {
     "name": "stdout",
     "output_type": "stream",
     "text": [
      "Enter the value of variable 1:-\t56\n",
      "Enter the value of variable 2:-\t83\n",
      "The values before swappng are:-\n",
      " x=56 \n",
      " y=83\n",
      "The values after swappng are:-\n",
      " x=83 \n",
      " y=56\n"
     ]
    }
   ],
   "source": [
    "#Q.5- Write a Python program to swap two variables without temp variable?\n",
    "\n",
    "#Solution-\n",
    "\n",
    "def swap(a,b):\n",
    "    c=a+b\n",
    "    b=a\n",
    "    a=c-b\n",
    "    print (\"The values after swappng are:-\\n x={} \\n y={}\".format(a,b))\n",
    "    \n",
    "x=int(input(\"Enter the value of variable 1:-\\t\"))\n",
    "y=int(input(\"Enter the value of variable 2:-\\t\"))\n",
    "print (\"The values before swappng are:-\\n x={} \\n y={}\".format(x,y))\n",
    "swap(x,y)"
   ]
  },
  {
   "cell_type": "code",
   "execution_count": null,
   "id": "358b8de8",
   "metadata": {},
   "outputs": [],
   "source": []
  }
 ],
 "metadata": {
  "kernelspec": {
   "display_name": "Python 3",
   "language": "python",
   "name": "python3"
  },
  "language_info": {
   "codemirror_mode": {
    "name": "ipython",
    "version": 3
   },
   "file_extension": ".py",
   "mimetype": "text/x-python",
   "name": "python",
   "nbconvert_exporter": "python",
   "pygments_lexer": "ipython3",
   "version": "3.8.8"
  }
 },
 "nbformat": 4,
 "nbformat_minor": 5
}
