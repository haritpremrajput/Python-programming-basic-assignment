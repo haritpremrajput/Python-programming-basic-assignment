{
 "cells": [
  {
   "cell_type": "code",
   "execution_count": 3,
   "id": "e114472d",
   "metadata": {},
   "outputs": [
    {
     "name": "stdout",
     "output_type": "stream",
     "text": [
      "Enter the number:-\t-3\n",
      "Entered number is negative\n"
     ]
    }
   ],
   "source": [
    "#Q1. Write a Python Program to Check if a Number is Positive, Negative or Zero?\n",
    "\n",
    "x= int(input(\"Enter the number:-\\t\"))\n",
    "\n",
    "if (x>0):\n",
    "    print (\"Entered number is positive\")\n",
    "elif (x==0):\n",
    "    print (\"Entered number is zero\")\n",
    "else:\n",
    "    print (\"Entered number is negative\")"
   ]
  },
  {
   "cell_type": "code",
   "execution_count": 4,
   "id": "531191a1",
   "metadata": {},
   "outputs": [
    {
     "name": "stdout",
     "output_type": "stream",
     "text": [
      "Enter the number:-\t4\n",
      "The Entered number is Even\n"
     ]
    }
   ],
   "source": [
    "#Q2. Write a Python Program to Check if a Number is Odd or Even?\n",
    "\n",
    "a= int(input(\"Enter the number:-\\t\"))\n",
    "\n",
    "if (a%2==0):\n",
    "    print (\"The Entered number is Even\")\n",
    "    \n",
    "else:\n",
    "    print (\"The Entered number is Odd\")"
   ]
  },
  {
   "cell_type": "code",
   "execution_count": 5,
   "id": "6e15c7dc",
   "metadata": {},
   "outputs": [
    {
     "name": "stdout",
     "output_type": "stream",
     "text": [
      "Enter the Year to check for leap year:-\t2022\n",
      "The Year 2022 is not a leap year\n"
     ]
    }
   ],
   "source": [
    "#Q3. Write a Python Program to Check Leap Year?\n",
    "\n",
    "def check_leap_year(year):\n",
    "    if (year%400==0) or (year%100!=0) and (year%4==0):\n",
    "        print (\"The Year {} is a leap year\".format(year))\n",
    "        \n",
    "    else:\n",
    "        print (\"The Year {} is not a leap year\".format(year))\n",
    "\n",
    "\n",
    "year= int(input(\"Enter the Year to check for leap year:-\\t\"))\n",
    "\n",
    "check_leap_year(year)"
   ]
  },
  {
   "cell_type": "code",
   "execution_count": 8,
   "id": "9dce2500",
   "metadata": {},
   "outputs": [
    {
     "name": "stdout",
     "output_type": "stream",
     "text": [
      "Enter the Number to check whether prime or not-\t7\n",
      "It is a prime number\n"
     ]
    }
   ],
   "source": [
    "#Q4. Write a Python Program to Check Prime Number?\n",
    "\n",
    "def check_prime_number(num):\n",
    "    count=0\n",
    "    for x in range(num-1,1,-1):\n",
    "        if (num%x==0):\n",
    "            count=count+1\n",
    "\n",
    "    if (count!=0):\n",
    "        print (\"It is not a prime number\")\n",
    "\n",
    "    else:\n",
    "        print (\"It is a prime number\")\n",
    "        \n",
    "Number=int(input(\"Enter the Number to check whether prime or not-\\t\"))\n",
    "check_prime_number(Number)\n"
   ]
  },
  {
   "cell_type": "code",
   "execution_count": 2,
   "id": "a5969851",
   "metadata": {},
   "outputs": [
    {
     "name": "stdout",
     "output_type": "stream",
     "text": [
      "[997, 991, 983, 977, 971, 967, 953, 947, 941, 937, 929, 919, 911, 907, 887, 883, 881, 877, 863, 859, 857, 853, 839, 829, 827, 823, 821, 811, 809, 797, 787, 773, 769, 761, 757, 751, 743, 739, 733, 727, 719, 709, 701, 691, 683, 677, 673, 661, 659, 653, 647, 643, 641, 631, 619, 617, 613, 607, 601, 599, 593, 587, 577, 571, 569, 563, 557, 547, 541, 523, 521, 509, 503, 499, 491, 487, 479, 467, 463, 461, 457, 449, 443, 439, 433, 431, 421, 419, 409, 401, 397, 389, 383, 379, 373, 367, 359, 353, 349, 347, 337, 331, 317, 313, 311, 307, 293, 283, 281, 277, 271, 269, 263, 257, 251, 241, 239, 233, 229, 227, 223, 211, 199, 197, 193, 191, 181, 179, 173, 167, 163, 157, 151, 149, 139, 137, 131, 127, 113, 109, 107, 103, 101, 97, 89, 83, 79, 73, 71, 67, 61, 59, 53, 47, 43, 41, 37, 31, 29, 23, 19, 17, 13, 11, 7, 5, 3]\n"
     ]
    }
   ],
   "source": [
    "#5. Write a Python Program to Print all Prime Numbers in an Interval of 1-10000?\n",
    "\n",
    "primes=[]\n",
    "count=0\n",
    "for i in range(1000,2,-1):\n",
    "    count=0\n",
    "    for j in range(i-1,1,-1):\n",
    "        if (i%j==0):\n",
    "            count = count +1\n",
    "    if (count!=0):\n",
    "        continue\n",
    "    elif(i in primes):\n",
    "        continue\n",
    "    else:\n",
    "        primes.append(i)\n",
    "        \n",
    "print (primes)"
   ]
  },
  {
   "cell_type": "code",
   "execution_count": null,
   "id": "4e99ff44",
   "metadata": {},
   "outputs": [],
   "source": []
  }
 ],
 "metadata": {
  "kernelspec": {
   "display_name": "Python 3",
   "language": "python",
   "name": "python3"
  },
  "language_info": {
   "codemirror_mode": {
    "name": "ipython",
    "version": 3
   },
   "file_extension": ".py",
   "mimetype": "text/x-python",
   "name": "python",
   "nbconvert_exporter": "python",
   "pygments_lexer": "ipython3",
   "version": "3.8.8"
  }
 },
 "nbformat": 4,
 "nbformat_minor": 5
}
