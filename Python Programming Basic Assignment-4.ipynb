{
 "cells": [
  {
   "cell_type": "code",
   "execution_count": 1,
   "id": "64c03a27",
   "metadata": {},
   "outputs": [
    {
     "name": "stdout",
     "output_type": "stream",
     "text": [
      "Enter the number to find factorial:- \t\t5\n",
      "120\n"
     ]
    }
   ],
   "source": [
    "#Q.1- Write a Python Program to Find the Factorial of a Number?\n",
    "\n",
    "#Solution- \n",
    "\n",
    "def factorial(a):\n",
    "    fact=1\n",
    "    for i in range(1,a+1):\n",
    "        fact=fact*i\n",
    "        i+=1\n",
    "\n",
    "    return fact\n",
    "\n",
    "num= int(input(\"Enter the number to find factorial:- \\t\\t\"))\n",
    "print (factorial(num))"
   ]
  },
  {
   "cell_type": "code",
   "execution_count": 2,
   "id": "5ac5eaf0",
   "metadata": {
    "scrolled": true
   },
   "outputs": [
    {
     "name": "stdout",
     "output_type": "stream",
     "text": [
      "Enter the number for which multiplication table is to be print:-\t6\n",
      "6 * 1 = 6\n",
      "6 * 2 = 12\n",
      "6 * 3 = 18\n",
      "6 * 4 = 24\n",
      "6 * 5 = 30\n",
      "6 * 6 = 36\n",
      "6 * 7 = 42\n",
      "6 * 8 = 48\n",
      "6 * 9 = 54\n",
      "6 * 10 = 60\n"
     ]
    }
   ],
   "source": [
    "#Q.2- Write a Python Program to Display the multiplication Table?\n",
    "\n",
    "#Solution-\n",
    "\n",
    "try:\n",
    "    def multiplication_table(num):\n",
    "        for i in range (1,11):\n",
    "            print (num, '*',i,'=',num*i)\n",
    "\n",
    "    number=int(input(\"Enter the number for which multiplication table is to be print:-\\t\"))\n",
    "    multiplication_table(number)\n",
    "    \n",
    "except Exception as e:\n",
    "    print (e)"
   ]
  },
  {
   "cell_type": "code",
   "execution_count": 3,
   "id": "1bd10785",
   "metadata": {},
   "outputs": [
    {
     "name": "stdout",
     "output_type": "stream",
     "text": [
      "Enter number of terms for which you want to print Fibonacci sequence:-  8\n",
      "The first 8 sequence of fibonacci number is [0, 1, 1, 2, 3, 5, 8, 13]\n"
     ]
    }
   ],
   "source": [
    "#Q.3- Write a Python Program to Print the Fibonacci sequence?\n",
    "\n",
    "#Soluton- \n",
    "\n",
    "try:\n",
    "\n",
    "    def fibonacci(n):\n",
    "        final=[]\n",
    "        a=0\n",
    "        b=1\n",
    "        final.append(a)\n",
    "        final.append(b)\n",
    "        for i in range (2,n):\n",
    "            result=a+b\n",
    "            final.append(result)\n",
    "            a=b\n",
    "            b=result\n",
    "        return final\n",
    "\n",
    "    num = int(input(\"Enter number of terms for which you want to print Fibonacci sequence:-  \"))\n",
    "    if (num<0):\n",
    "        print (\"sequence cannot be negative\")\n",
    "    \n",
    "    else:\n",
    "        print (\"The first {} sequence of fibonacci number is\".format(num),fibonacci(num))\n",
    "    \n",
    "except Exception as e:\n",
    "    print (e)"
   ]
  },
  {
   "cell_type": "code",
   "execution_count": 4,
   "id": "e5b6ff49",
   "metadata": {},
   "outputs": [
    {
     "name": "stdout",
     "output_type": "stream",
     "text": [
      "Enter the number to check for Armstrong number:-\t153\n",
      "Entered number is an Armstrong number\n"
     ]
    }
   ],
   "source": [
    "#Q.4- Write a Python Program to Check Armstrong Number?\n",
    "\n",
    "#Solution-\n",
    "\n",
    "try:\n",
    "    \n",
    "    num=input(\"Enter the number to check for Armstrong number:-\\t\")\n",
    "    a=0\n",
    "    sum=0\n",
    "    for i in num:\n",
    "        a =int(i)\n",
    "        b=a*a*a\n",
    "        sum = sum + b\n",
    "\n",
    "    if (int(num) == sum):\n",
    "        print (\"Entered number is an Armstrong number\")\n",
    "\n",
    "    else:\n",
    "        print (\"Entered number is not an Armstrong number\")\n",
    "    \n",
    "except Exception as e:\n",
    "    print (e)"
   ]
  },
  {
   "cell_type": "code",
   "execution_count": 6,
   "id": "e28acfb8",
   "metadata": {},
   "outputs": [
    {
     "name": "stdout",
     "output_type": "stream",
     "text": [
      "Enter the lower range of the interval in which you want to find Armstrong number:-\t1\n",
      "Enter the upper range of the interval in which you want to find Armstrong number:-\t1000\n",
      "[1, 153, 370, 371, 407]  are Armstrong numbers between 1 and 1000\n"
     ]
    }
   ],
   "source": [
    "#Q.5- Write a Python Program to Find Armstrong Number in an Interval?\n",
    "\n",
    "#Solution-\n",
    "\n",
    "try:\n",
    "    lower = int(input(\"Enter the lower range of the interval in which you want to find Armstrong number:-\\t\"))\n",
    "    upper = int(input(\"Enter the upper range of the interval in which you want to find Armstrong number:-\\t\"))\n",
    "\n",
    "    arm=[]\n",
    "    for i in range(lower, upper+1):\n",
    "        a=0\n",
    "        sum=0\n",
    "        for j in str(i):\n",
    "            a =int(j)\n",
    "            b=a*a*a\n",
    "            sum = sum + b\n",
    "        if (i == sum):\n",
    "                arm.append(i)\n",
    "    if(len(arm)==0):\n",
    "        print(\"There is no Armstrong number between {} and {}\".format(lower,upper))\n",
    "    \n",
    "    else:\n",
    "        print (arm,\" are Armstrong numbers between {} and {}\".format(lower,upper))\n",
    "    \n",
    "except Exception as e:\n",
    "    print (e)"
   ]
  },
  {
   "cell_type": "code",
   "execution_count": 7,
   "id": "a6b21592",
   "metadata": {},
   "outputs": [
    {
     "name": "stdout",
     "output_type": "stream",
     "text": [
      "Enter the number upto which you want the sum of all natural numbers:-\t10\n",
      "The sum of first 10 natural numbers is  55\n"
     ]
    }
   ],
   "source": [
    "#Q.6- Write a Python Program to Find the Sum of Natural Numbers?\n",
    "\n",
    "#Solution-\n",
    "\n",
    "def sum_of_natural_numbers(n):\n",
    "    sum = 0\n",
    "    for i in range(1, n+1):\n",
    "        sum = sum + i\n",
    "    return (sum)\n",
    "\n",
    "try:\n",
    "    num = int(input(\"Enter the number upto which you want the sum of all natural numbers:-\\t\"))\n",
    "    print(\"The sum of first {} natural numbers is \".format(num), sum_of_natural_numbers(num))\n",
    "    \n",
    "except Exception as e:\n",
    "    print (e)"
   ]
  },
  {
   "cell_type": "code",
   "execution_count": null,
   "id": "c17f3615",
   "metadata": {},
   "outputs": [],
   "source": []
  }
 ],
 "metadata": {
  "kernelspec": {
   "display_name": "Python 3",
   "language": "python",
   "name": "python3"
  },
  "language_info": {
   "codemirror_mode": {
    "name": "ipython",
    "version": 3
   },
   "file_extension": ".py",
   "mimetype": "text/x-python",
   "name": "python",
   "nbconvert_exporter": "python",
   "pygments_lexer": "ipython3",
   "version": "3.8.8"
  }
 },
 "nbformat": 4,
 "nbformat_minor": 5
}
