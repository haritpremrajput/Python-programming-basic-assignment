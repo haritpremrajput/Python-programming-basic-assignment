{
 "cells": [
  {
   "cell_type": "code",
   "execution_count": 2,
   "id": "2eb9dbe6",
   "metadata": {},
   "outputs": [
    {
     "name": "stdout",
     "output_type": "stream",
     "text": [
      "Enter the first number to find the LCM:- 34\n",
      "Enter the second number to find the LCM:- 56\n",
      "The LCM of  34  and  56  is  952\n"
     ]
    }
   ],
   "source": [
    "#Q.1- Write a Python Program to Find LCM?\n",
    "\n",
    "#Solution- \n",
    "\n",
    "def lcm(a,b):\n",
    "    if (a>b):\n",
    "        larger_number=a\n",
    "        smaller_number=b\n",
    "    else:\n",
    "        larger_number=b\n",
    "        smaller_number=a\n",
    "    while (True):\n",
    "        if ((larger_number % a==0) and (larger_number % b ==0)):\n",
    "            result= larger_number\n",
    "            return result\n",
    "        larger_number += 1\n",
    "        \n",
    "num1=int(input(\"Enter the first number to find the LCM:- \"))\n",
    "num2=int(input(\"Enter the second number to find the LCM:- \"))\n",
    "print(\"The LCM of \",num1,\" and \", num2,\" is \",lcm (num1,num2))"
   ]
  },
  {
   "cell_type": "code",
   "execution_count": 4,
   "id": "a024ec88",
   "metadata": {},
   "outputs": [
    {
     "name": "stdout",
     "output_type": "stream",
     "text": [
      "enter the first number:- 34\n",
      "enter the second number:- 56\n",
      "The HCF of the given numbers are  2\n"
     ]
    }
   ],
   "source": [
    "#Q.2- Write a Python Program to Find HCF?\n",
    "\n",
    "#Solution-\n",
    "\n",
    "def hcf(a,b):\n",
    "    if (a>b):\n",
    "        larger_number=a\n",
    "        smaller_number=b\n",
    "    else:\n",
    "        larger_number=b\n",
    "        smaller_number=a\n",
    "    for i in range(smaller_number,1,-1):\n",
    "        if (larger_number % i == 0) and (smaller_number % i == 0):\n",
    "            return i\n",
    "            \n",
    "num1=int(input(\"enter the first number:- \"))\n",
    "num2=int(input(\"enter the second number:- \"))\n",
    "result = hcf(num1,num2)\n",
    "print (\"The HCF of the given numbers are \",result)"
   ]
  },
  {
   "cell_type": "code",
   "execution_count": 5,
   "id": "058f765c",
   "metadata": {},
   "outputs": [
    {
     "name": "stdout",
     "output_type": "stream",
     "text": [
      "Enter an number in decimal system:- 10\n",
      "Choose any option:-\n",
      " 1.Convert to Binary system \n",
      " 2.Convert to Octal system \n",
      " 3.Convert to Hexadecimal system \n",
      " Your choice:- 3\n",
      "The decimal value of 10 in Hexadecimal system is: a\n"
     ]
    }
   ],
   "source": [
    "#Q.3- Write a Python Program to Convert Decimal to Binary, Octal and Hexadecimal?\n",
    "\n",
    "#Solution- \n",
    "\n",
    "n = int(input(\"Enter an number in decimal system:- \"))\n",
    "choice = int(input(\"Choose any option:-\\n 1.Convert to Binary system \\n 2.Convert to Octal system \\n 3.Convert to Hexadecimal system \\n Your choice:- \"))\n",
    "if (choice==1):\n",
    "    b = bin(n)\n",
    "    print(\"The decimal value of\", n, \"in Binary system is:\", b[2::])\n",
    "elif (choice==2):\n",
    "    o = oct(n)\n",
    "    print(\"The decimal value of\", n,\"in Octal system is:\", o[2::])\n",
    "elif (choice==3):\n",
    "    h = hex(n)\n",
    "    print(\"The decimal value of\", n,\"in Hexadecimal system is:\", h[2::])\n",
    "else:\n",
    "    print(\"Wrong Choice. Try again\")"
   ]
  },
  {
   "cell_type": "code",
   "execution_count": 6,
   "id": "fd02c132",
   "metadata": {},
   "outputs": [
    {
     "name": "stdout",
     "output_type": "stream",
     "text": [
      "Enter the character for which you want to find ASCII value:- h\n",
      "The ASCII value of h is  104\n"
     ]
    }
   ],
   "source": [
    "#Q.4- Write a Python Program To Find ASCII value of a character?\n",
    "\n",
    "#Solution- \n",
    "\n",
    "try:\n",
    "    char = input(\"Enter the character for which you want to find ASCII value:- \")\n",
    "    print (\"The ASCII value of {} is \".format(char),ord(char))\n",
    "    \n",
    "except Exception as e:\n",
    "    print (e)"
   ]
  },
  {
   "cell_type": "code",
   "execution_count": 7,
   "id": "d64fc899",
   "metadata": {},
   "outputs": [
    {
     "name": "stdout",
     "output_type": "stream",
     "text": [
      "Enter your choice of operation:-\n",
      " 1.Addition \n",
      " 2.Substraction \n",
      " 3.Multiplication \n",
      " 4.Division \n",
      " Your choice:- 2\n",
      "Enter the first number:- 45\n",
      "Enter the second number:- 34\n",
      "Result =  11\n"
     ]
    }
   ],
   "source": [
    "#Q.5- Write a Python Program to Make a Simple Calculator with 4 basic mathematical operations?\n",
    "\n",
    "#Solution-\n",
    "\n",
    "try:\n",
    "    class calculator:\n",
    "        def addition_operation(a,b):\n",
    "            return (a+b)\n",
    "\n",
    "        def substraction_operation(a,b):\n",
    "            return (a-b)\n",
    "\n",
    "        def multiplication_operation(a,b):\n",
    "            return (a*b)\n",
    "\n",
    "        def division_operation(a,b):\n",
    "            return (a/b)\n",
    "\n",
    "    choice = int(input(\"Enter your choice of operation:-\\n 1.Addition \\n 2.Substraction \\n 3.Multiplication \\n 4.Division \\n Your choice:- \"))\n",
    "    num1=int(input(\"Enter the first number:- \"))\n",
    "    num2=int(input(\"Enter the second number:- \"))\n",
    "    if (choice==1):\n",
    "        print (\"Result = \", calculator.addition_operation(num1,num2))\n",
    "\n",
    "    elif (choice==2):\n",
    "        print (\"Result = \", calculator.substraction_operation(num1,num2))\n",
    "\n",
    "    elif (choice==3):\n",
    "        print (\"Result = \", calculator.multiplication_operation(num1,num2))\n",
    "\n",
    "    elif (choice==4):\n",
    "        print (\"Result = \", calculator.division_operation(num1,num2))\n",
    "\n",
    "    else:\n",
    "        print (\"Wrong choice.--------Try Again\")\n",
    "        \n",
    "except Exception as e:\n",
    "    print (e)"
   ]
  },
  {
   "cell_type": "code",
   "execution_count": null,
   "id": "810da4fd",
   "metadata": {},
   "outputs": [],
   "source": []
  }
 ],
 "metadata": {
  "kernelspec": {
   "display_name": "Python 3",
   "language": "python",
   "name": "python3"
  },
  "language_info": {
   "codemirror_mode": {
    "name": "ipython",
    "version": 3
   },
   "file_extension": ".py",
   "mimetype": "text/x-python",
   "name": "python",
   "nbconvert_exporter": "python",
   "pygments_lexer": "ipython3",
   "version": "3.8.8"
  }
 },
 "nbformat": 4,
 "nbformat_minor": 5
}
