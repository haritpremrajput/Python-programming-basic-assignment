{
 "cells": [
  {
   "cell_type": "code",
   "execution_count": 4,
   "id": "6f525dc6",
   "metadata": {},
   "outputs": [
    {
     "name": "stdout",
     "output_type": "stream",
     "text": [
      "Enter number of terms for which you want to print Fibonacci sequence:-  9\n",
      "The first 9 sequence of fibonacci series are\n",
      "[0, 1, 1, 2, 3, 5, 8, 13, 21]\n"
     ]
    }
   ],
   "source": [
    "#Q.1- Write a Python Program to Display Fibonacci Sequence Using Recursion?\n",
    "\n",
    "#Solution- \n",
    "\n",
    "try:\n",
    "    \n",
    "    def fibonacci_rec(n):\n",
    "            if (n<0):\n",
    "                print (\"number cannot be negative\")     \n",
    "            elif (n==0) or (n==1):\n",
    "                return (n)\n",
    "            else:\n",
    "                return (fibonacci_rec(n-1) + fibonacci_rec(n-2))\n",
    "\n",
    "    num = int(input(\"Enter number of terms for which you want to print Fibonacci sequence:-  \"))\n",
    "    print (\"The first {} sequence of fibonacci series are\".format(num))\n",
    "    fib=[]\n",
    "    for i in range(num):\n",
    "        fib.append(fibonacci_rec(i))\n",
    "    print (fib)\n",
    "    \n",
    "except Exception as e:\n",
    "    print (e)"
   ]
  },
  {
   "cell_type": "code",
   "execution_count": 7,
   "id": "ddab35a1",
   "metadata": {},
   "outputs": [
    {
     "name": "stdout",
     "output_type": "stream",
     "text": [
      "Enter the number to find factorial:- 6\n",
      "The factorial of 6 is 720\n"
     ]
    }
   ],
   "source": [
    "#Q.2- Write a Python Program to Find Factorial of Number Using Recursion?\n",
    "\n",
    "#Solution- \n",
    "\n",
    "try:\n",
    "    def fact_rec(n):\n",
    "        if n == 1:\n",
    "            return n\n",
    "        else:\n",
    "            return (n*fact_rec(n-1))\n",
    "    \n",
    "    num= int(input(\"Enter the number to find factorial:- \"))\n",
    "    if num < 0:\n",
    "        print(\"Factorial for negative numbers does not exist\")\n",
    "\n",
    "    else:\n",
    "        print ('The factorial of {} is'.format(num),fact_rec(num))\n",
    "    \n",
    "except Exception as e:\n",
    "    print (e)"
   ]
  },
  {
   "cell_type": "code",
   "execution_count": 9,
   "id": "7eeaf08b",
   "metadata": {},
   "outputs": [
    {
     "name": "stdout",
     "output_type": "stream",
     "text": [
      "Enter the mass in kilograms:- 65\n",
      "Enter the height in metres:- 1.67\n",
      "The BMI is  23.306680053067517\n"
     ]
    }
   ],
   "source": [
    "#Q.3- Write a Python Program to calculate your Body Mass Index?\n",
    "\n",
    "#Solution- \n",
    "\n",
    "try:\n",
    "    def calculate_bmi(mass,height):\n",
    "        bmi=(mass/(height*height))\n",
    "        return (bmi)\n",
    "\n",
    "    m=float(input(\"Enter the mass in kilograms:- \"))\n",
    "    h=float(input(\"Enter the height in metres:- \"))\n",
    "    print(\"The BMI is \",calculate_bmi(m,h))\n",
    "    \n",
    "except Exception as e:\n",
    "    print (e)"
   ]
  },
  {
   "cell_type": "code",
   "execution_count": 10,
   "id": "6d5839a1",
   "metadata": {},
   "outputs": [
    {
     "name": "stdout",
     "output_type": "stream",
     "text": [
      "Enter the number to find logarithm:- 10\n",
      "Natural Logarithm of  10  is  2.302585092994046\n"
     ]
    }
   ],
   "source": [
    "#Q.4- Write a Python Program to calculate the natural logarithm of any number?\n",
    "\n",
    "#Solution- \n",
    "\n",
    "try:\n",
    "    def natural_log(num):\n",
    "        import math\n",
    "        return (math.log(num))\n",
    "\n",
    "    num= int(input(\"Enter the number to find logarithm:- \"))\n",
    "    if num < 0:\n",
    "        print(\"Natural logarithm for negative numbers is not defined\")\n",
    "\n",
    "    else:\n",
    "        print (\"Natural Logarithm of \",num,\" is \", natural_log(num))\n",
    "        \n",
    "except Exception as e:\n",
    "    print (e)    "
   ]
  },
  {
   "cell_type": "code",
   "execution_count": 11,
   "id": "64ca4521",
   "metadata": {},
   "outputs": [
    {
     "name": "stdout",
     "output_type": "stream",
     "text": [
      "Enter the number of terms upto which you have to find sum of cubes:  5\n",
      "The sum of cube of first 5 natural numbers is 225\n"
     ]
    }
   ],
   "source": [
    "#Q.5- Write a Python Program for cube sum of first n natural numbers?\n",
    "\n",
    "#Solution- \n",
    "\n",
    "try:    \n",
    "    def cube_sum(num):\n",
    "        if (num==1):\n",
    "            return (1)\n",
    "        sum_of_cubes = (num*num*num + cube_sum(num-1))\n",
    "        return (sum_of_cubes)\n",
    "\n",
    "    num= int(input(\"Enter the number of terms upto which you have to find sum of cubes:  \"))\n",
    "    if num > 0:\n",
    "        print(\"The sum of cube of first\",num, \"natural numbers is\",cube_sum(num))\n",
    "    else:\n",
    "        print (\"Enter natural number only\")\n",
    "        \n",
    "except Exception as e:\n",
    "    print (e)"
   ]
  },
  {
   "cell_type": "code",
   "execution_count": null,
   "id": "b45e26c2",
   "metadata": {},
   "outputs": [],
   "source": []
  }
 ],
 "metadata": {
  "kernelspec": {
   "display_name": "Python 3",
   "language": "python",
   "name": "python3"
  },
  "language_info": {
   "codemirror_mode": {
    "name": "ipython",
    "version": 3
   },
   "file_extension": ".py",
   "mimetype": "text/x-python",
   "name": "python",
   "nbconvert_exporter": "python",
   "pygments_lexer": "ipython3",
   "version": "3.8.8"
  }
 },
 "nbformat": 4,
 "nbformat_minor": 5
}
