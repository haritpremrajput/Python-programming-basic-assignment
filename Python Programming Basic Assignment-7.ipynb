{
 "cells": [
  {
   "cell_type": "code",
   "execution_count": 1,
   "id": "e6ebc471",
   "metadata": {},
   "outputs": [
    {
     "name": "stdout",
     "output_type": "stream",
     "text": [
      "Enter element in the array - 3\n",
      "Continue to add: Type 'Y' for 'Yes' or 'N' for 'No'-- 5\n",
      "The elements in array are  [3]\n",
      "Sum of elements in array is\t 3\n"
     ]
    }
   ],
   "source": [
    "#Q.1- Write a Python Program to find sum of array?\n",
    "\n",
    "#Solution- \n",
    "\n",
    "import numpy as np\n",
    "\n",
    "try:\n",
    "    \n",
    "    User_input = []\n",
    "\n",
    "    while(True):\n",
    "        n=int(input(\"Enter element in the array - \"))\n",
    "        User_input.append(n)\n",
    "        ans=input(\"Continue to add: Type \\'Y\\' for \\'Yes\\' or \\'N\\' for \\'No\\'-- \")    \n",
    "        if(ans==\"Y\" or ans==\"y\"):\n",
    "            continue\n",
    "        else:\n",
    "            break\n",
    "    User_array = np.array(User_input)\n",
    "    print(\"The elements in array are \", User_array)\n",
    "    print(\"Sum of elements in array is\\t\",User_array.sum())\n",
    "    \n",
    "except Exception as e:\n",
    "    print (e)"
   ]
  },
  {
   "cell_type": "code",
   "execution_count": 2,
   "id": "033ba20e",
   "metadata": {},
   "outputs": [
    {
     "name": "stdout",
     "output_type": "stream",
     "text": [
      "The largest element in the array [ 34 567 234  28 890 663] is 890\n"
     ]
    }
   ],
   "source": [
    "#Q.2- Write a Python Program to find largest element in an array?\n",
    "\n",
    "#Solution- \n",
    "\n",
    "arr = np.array([34,567,234,28,890,663])\n",
    "print(\"The largest element in the array {} is {}\".format(arr,arr.max()))"
   ]
  },
  {
   "cell_type": "code",
   "execution_count": 3,
   "id": "a3728a43",
   "metadata": {},
   "outputs": [
    {
     "name": "stdout",
     "output_type": "stream",
     "text": [
      "Before Rotation:-  [ 3 66 12 38 93 82 49 55]\n",
      "After Rotation:-  [93 82 49 55  3 66 12 38]\n"
     ]
    }
   ],
   "source": [
    "#Q.3- Write a Python Program for array rotation?\n",
    "\n",
    "#Solution-\n",
    "\n",
    "import random\n",
    "import numpy as np\n",
    "\n",
    "Array2 = np.array([3,66,12,38,93,82,49,55])   #Array input\n",
    "d=random.randint(1,Array2.itemsize)  #Rotation value\n",
    "temp2 = []\n",
    "i=0\n",
    "while i in range(len(Array2) - d):\n",
    "    temp2.append(Array2[i+d])\n",
    "    i=i+1\n",
    "\n",
    "for j in range(d):\n",
    "    temp2.append(Array2[j])\n",
    "\n",
    "print(\"Before Rotation:- \", Array2)\n",
    "Array2 = np.array(temp2)\n",
    "print (\"After Rotation:- \", Array2)"
   ]
  },
  {
   "cell_type": "code",
   "execution_count": 4,
   "id": "dbd7a76c",
   "metadata": {},
   "outputs": [
    {
     "name": "stdout",
     "output_type": "stream",
     "text": [
      "The given Array is [ 3 66 12 38 93 82 49] \n",
      " There are 7 elements in the array\n",
      "Enter the position to split the array - 3\n",
      "The final array is  [12 38 93 82 49  3 66]\n"
     ]
    }
   ],
   "source": [
    "#Q.4- Write a Python Program to Split the array and add the first part to the end?\n",
    "\n",
    "#Solution-\n",
    "\n",
    "import numpy as np\n",
    "\n",
    "def Arr_Split(pos):         #Split function\n",
    "    temp2 = []\n",
    "    for i in range(pos-1, len(Array3)):\n",
    "        temp2.append(Array3[i])\n",
    "\n",
    "    for j in range(pos-1):\n",
    "        temp2.append(Array3[j])\n",
    "    return(temp2)\n",
    "\n",
    "Array3 = np.array([3,66,12,38,93,82,49])   #Given Array\n",
    "print (\"The given Array is {} \\n There are {} elements in the array\".format(Array3,len(Array3)))\n",
    "pos=int(input(\"Enter the position to split the array - \"))\n",
    "Array3=np.array(Arr_Split(pos))\n",
    "print(\"The final array is \",Array3)"
   ]
  },
  {
   "cell_type": "code",
   "execution_count": 5,
   "id": "0c74d260",
   "metadata": {},
   "outputs": [
    {
     "name": "stdout",
     "output_type": "stream",
     "text": [
      "No! array is not Monotonic\n"
     ]
    }
   ],
   "source": [
    "#Q.5- Write a Python Program to check if given array is Monotonic?\n",
    "\n",
    "#Solution- An array is said to be monotonic in nature if it is either continuously increasing or continuously decreasing\n",
    "\n",
    "import numpy\n",
    "\n",
    "def check_for_Monotonic(a1):\n",
    "    l1 = list(a1)\n",
    "    x, y = [], []\n",
    "    x.extend(l1)\n",
    "    y.extend(l1)\n",
    "    x.sort()\n",
    "    y.sort(reverse=True)\n",
    "    if(x == l1 or y == l1):\n",
    "        return (\"Yes! array is Monotonic\")\n",
    "    else:\n",
    "        return (\"No! array is not Monotonic\")\n",
    "    \n",
    "Given_array = np.array([2, 4, 65, 34, 76])\n",
    "\n",
    "print (check_for_Monotonic(Given_array))"
   ]
  },
  {
   "cell_type": "code",
   "execution_count": null,
   "id": "17355da0",
   "metadata": {},
   "outputs": [],
   "source": []
  }
 ],
 "metadata": {
  "kernelspec": {
   "display_name": "Python 3 (ipykernel)",
   "language": "python",
   "name": "python3"
  },
  "language_info": {
   "codemirror_mode": {
    "name": "ipython",
    "version": 3
   },
   "file_extension": ".py",
   "mimetype": "text/x-python",
   "name": "python",
   "nbconvert_exporter": "python",
   "pygments_lexer": "ipython3",
   "version": "3.9.12"
  }
 },
 "nbformat": 4,
 "nbformat_minor": 5
}
