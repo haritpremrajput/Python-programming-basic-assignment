{
 "cells": [
  {
   "cell_type": "code",
   "execution_count": 1,
   "id": "9c5032d0",
   "metadata": {},
   "outputs": [
    {
     "name": "stdout",
     "output_type": "stream",
     "text": [
      "First matrix is \n",
      " [[ 0  1  2  3]\n",
      " [ 4  5  6  7]\n",
      " [ 8  9 10 11]\n",
      " [12 13 14 15]\n",
      " [16 17 18 19]]\n",
      "Second matrix is \n",
      " [[ 0  5 10 15]\n",
      " [ 1  6 11 16]\n",
      " [ 2  7 12 17]\n",
      " [ 3  8 13 18]\n",
      " [ 4  9 14 19]]\n",
      "Sum of the matrices are - \n",
      " [[ 0  6 12 18]\n",
      " [ 5 11 17 23]\n",
      " [10 16 22 28]\n",
      " [15 21 27 33]\n",
      " [20 26 32 38]]\n"
     ]
    }
   ],
   "source": [
    "#Q.1- Write a Python Program to Add Two Matrices?\n",
    "\n",
    "#Solution- \n",
    "\n",
    "import numpy as np\n",
    "\n",
    "mydata = np.arange(0,20)\n",
    "mat1 = np.reshape(mydata, (5,4))\n",
    "mat2 = np.reshape(mydata, (5,4), 'f')\n",
    "\n",
    "print(\"First matrix is \\n\",mat1)\n",
    "print(\"Second matrix is \\n\",mat2)\n",
    "print(\"Sum of the matrices are - \\n\",np.add(mat1,mat2))"
   ]
  },
  {
   "cell_type": "code",
   "execution_count": 2,
   "id": "34ec1d06",
   "metadata": {},
   "outputs": [
    {
     "name": "stdout",
     "output_type": "stream",
     "text": [
      "First matrix is \n",
      " [[ 0  1  2  3]\n",
      " [ 4  5  6  7]\n",
      " [ 8  9 10 11]\n",
      " [12 13 14 15]\n",
      " [16 17 18 19]]\n",
      "Second matrix is \n",
      " [[ 0  5 10 15]\n",
      " [ 1  6 11 16]\n",
      " [ 2  7 12 17]\n",
      " [ 3  8 13 18]\n",
      " [ 4  9 14 19]]\n",
      "Multiplication of two matrices are - \n",
      " [[  0   5  20  45]\n",
      " [  4  30  66 112]\n",
      " [ 16  63 120 187]\n",
      " [ 36 104 182 270]\n",
      " [ 64 153 252 361]]\n"
     ]
    }
   ],
   "source": [
    "#Q.2- Write a Python Program to Multiply Two Matrices?\n",
    "\n",
    "#Solution- \n",
    "\n",
    "import numpy as np\n",
    "\n",
    "mydata = np.arange(0,20)\n",
    "mat1 = np.reshape(mydata, (5,4))\n",
    "mat2 = np.reshape(mydata, (5,4), 'f')\n",
    "\n",
    "print(\"First matrix is \\n\",mat1)\n",
    "print(\"Second matrix is \\n\",mat2)\n",
    "print(\"Multiplication of two matrices are - \\n\",np.multiply(mat1,mat2))"
   ]
  },
  {
   "cell_type": "code",
   "execution_count": 3,
   "id": "d0a8b232",
   "metadata": {},
   "outputs": [
    {
     "name": "stdout",
     "output_type": "stream",
     "text": [
      "The matrix before transpose is \n",
      " [[ 0  1  2  3]\n",
      " [ 4  5  6  7]\n",
      " [ 8  9 10 11]\n",
      " [12 13 14 15]\n",
      " [16 17 18 19]]\n",
      "The matrix after transpose is \n",
      " [[ 0  4  8 12 16]\n",
      " [ 1  5  9 13 17]\n",
      " [ 2  6 10 14 18]\n",
      " [ 3  7 11 15 19]]\n"
     ]
    }
   ],
   "source": [
    "#Q.3- Write a Python Program to Transpose a Matrix?\n",
    "\n",
    "#Solution- \n",
    "\n",
    "import numpy as np\n",
    "\n",
    "mydata = np.arange(0,20)\n",
    "mat1 = np.reshape(mydata, (5,4))\n",
    "print(\"The matrix before transpose is \\n\",mat1)\n",
    "print(\"The matrix after transpose is \\n\",mat1.transpose())"
   ]
  },
  {
   "cell_type": "code",
   "execution_count": 8,
   "id": "f6509381",
   "metadata": {},
   "outputs": [
    {
     "name": "stdout",
     "output_type": "stream",
     "text": [
      "The string is:-  Hello This is Harit prem Rajput\n",
      "The string after sort is  ['harit', 'hello', 'is', 'prem', 'rajput', 'this']\n"
     ]
    }
   ],
   "source": [
    "#Q.4- Write a Python Program to Sort Words in Alphabetic Order?\n",
    "\n",
    "#Solution- \n",
    "\n",
    "def split_and_sort(a):\n",
    "    to_lower = a.lower()\n",
    "    split = to_lower.split()\n",
    "    words_list = []\n",
    "    for word in split:\n",
    "        words_list.append(word)\n",
    "    words_list.sort()\n",
    "    return(words_list)\n",
    "    \n",
    "User_input = \"Hello This is Harit prem Rajput\"\n",
    "print (\"The string is:- \",User_input)\n",
    "print(\"The string after sort is \",split_and_sort(User_input))"
   ]
  },
  {
   "cell_type": "code",
   "execution_count": 10,
   "id": "05900f00",
   "metadata": {},
   "outputs": [
    {
     "name": "stdout",
     "output_type": "stream",
     "text": [
      "The string is:-  Hello! This is Harit.\n",
      "The string after removing punctuation is:-  Hello This is Harit\n"
     ]
    }
   ],
   "source": [
    "#Q.5- Write a Python Program to Remove Punctuation From a String?\n",
    "\n",
    "#Solution- \n",
    "\n",
    "import string\n",
    "\n",
    "User_input = \"Hello! This is Harit.\"\n",
    "print (\"The string is:- \",User_input)\n",
    "print(\"The string after removing punctuation is:- \",User_input.translate(User_input.maketrans(' ', ' ',string.punctuation)))"
   ]
  },
  {
   "cell_type": "code",
   "execution_count": null,
   "id": "ecc81c10",
   "metadata": {},
   "outputs": [],
   "source": []
  }
 ],
 "metadata": {
  "kernelspec": {
   "display_name": "Python 3 (ipykernel)",
   "language": "python",
   "name": "python3"
  },
  "language_info": {
   "codemirror_mode": {
    "name": "ipython",
    "version": 3
   },
   "file_extension": ".py",
   "mimetype": "text/x-python",
   "name": "python",
   "nbconvert_exporter": "python",
   "pygments_lexer": "ipython3",
   "version": "3.9.12"
  }
 },
 "nbformat": 4,
 "nbformat_minor": 5
}
